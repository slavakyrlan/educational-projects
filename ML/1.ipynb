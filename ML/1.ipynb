{
 "cells": [
  {
   "cell_type": "raw",
   "source": [
    "1 FFF"
   ],
   "metadata": {
    "collapsed": false
   },
   "id": "97af569c94c75be9"
  },
  {
   "cell_type": "markdown",
   "source": [
    "pip install numpy\n",
    "pip install matplotlib\n",
    "pip install dateline"
   ],
   "metadata": {
    "collapsed": false
   },
   "id": "6a3ffe6323c0995c"
  },
  {
   "cell_type": "code",
   "execution_count": 9,
   "outputs": [],
   "source": [
    "import numpy as np\n",
    "import matplotlib.pyplot as plt\n",
    "from datetime import date\n",
    "from datetime import datetime"
   ],
   "metadata": {
    "collapsed": false,
    "ExecuteTime": {
     "end_time": "2023-11-13T12:57:02.825955600Z",
     "start_time": "2023-11-13T12:57:02.810906200Z"
    }
   },
   "id": "e4c838258d1a5fed"
  },
  {
   "cell_type": "code",
   "execution_count": null,
   "outputs": [],
   "source": [],
   "metadata": {
    "collapsed": false
   },
   "id": "f61174c089d5750f"
  }
 ],
 "metadata": {
  "kernelspec": {
   "display_name": "Python 3",
   "language": "python",
   "name": "python3"
  },
  "language_info": {
   "codemirror_mode": {
    "name": "ipython",
    "version": 2
   },
   "file_extension": ".py",
   "mimetype": "text/x-python",
   "name": "python",
   "nbconvert_exporter": "python",
   "pygments_lexer": "ipython2",
   "version": "2.7.6"
  }
 },
 "nbformat": 4,
 "nbformat_minor": 5
}
